{
  "nbformat": 4,
  "nbformat_minor": 0,
  "metadata": {
    "colab": {
      "provenance": [],
      "authorship_tag": "ABX9TyPwgaoRyGCUecTqcRPJbhnd",
      "include_colab_link": true
    },
    "kernelspec": {
      "name": "python3",
      "display_name": "Python 3"
    },
    "language_info": {
      "name": "python"
    }
  },
  "cells": [
    {
      "cell_type": "markdown",
      "metadata": {
        "id": "view-in-github",
        "colab_type": "text"
      },
      "source": [
        "<a href=\"https://colab.research.google.com/github/Revo-hero/lung_cancer/blob/main/lung_cancer.ipynb\" target=\"_parent\"><img src=\"https://colab.research.google.com/assets/colab-badge.svg\" alt=\"Open In Colab\"/></a>"
      ]
    },
    {
      "cell_type": "code",
      "execution_count": null,
      "metadata": {
        "id": "FzLmZeXxJPb3"
      },
      "outputs": [],
      "source": [
        "!pip install -q kaggle"
      ]
    },
    {
      "cell_type": "code",
      "source": [
        "from google.colab import files\n",
        "files.upload()"
      ],
      "metadata": {
        "colab": {
          "base_uri": "https://localhost:8080/",
          "height": 90
        },
        "id": "oJmXZlgVJVV3",
        "outputId": "ef78c995-1913-4859-bf12-8bbb7c8e2524"
      },
      "execution_count": null,
      "outputs": [
        {
          "output_type": "display_data",
          "data": {
            "text/plain": [
              "<IPython.core.display.HTML object>"
            ],
            "text/html": [
              "\n",
              "     <input type=\"file\" id=\"files-8af9f7d1-938b-4c5c-b976-21ec9d6ab918\" name=\"files[]\" multiple disabled\n",
              "        style=\"border:none\" />\n",
              "     <output id=\"result-8af9f7d1-938b-4c5c-b976-21ec9d6ab918\">\n",
              "      Upload widget is only available when the cell has been executed in the\n",
              "      current browser session. Please rerun this cell to enable.\n",
              "      </output>\n",
              "      <script>// Copyright 2017 Google LLC\n",
              "//\n",
              "// Licensed under the Apache License, Version 2.0 (the \"License\");\n",
              "// you may not use this file except in compliance with the License.\n",
              "// You may obtain a copy of the License at\n",
              "//\n",
              "//      http://www.apache.org/licenses/LICENSE-2.0\n",
              "//\n",
              "// Unless required by applicable law or agreed to in writing, software\n",
              "// distributed under the License is distributed on an \"AS IS\" BASIS,\n",
              "// WITHOUT WARRANTIES OR CONDITIONS OF ANY KIND, either express or implied.\n",
              "// See the License for the specific language governing permissions and\n",
              "// limitations under the License.\n",
              "\n",
              "/**\n",
              " * @fileoverview Helpers for google.colab Python module.\n",
              " */\n",
              "(function(scope) {\n",
              "function span(text, styleAttributes = {}) {\n",
              "  const element = document.createElement('span');\n",
              "  element.textContent = text;\n",
              "  for (const key of Object.keys(styleAttributes)) {\n",
              "    element.style[key] = styleAttributes[key];\n",
              "  }\n",
              "  return element;\n",
              "}\n",
              "\n",
              "// Max number of bytes which will be uploaded at a time.\n",
              "const MAX_PAYLOAD_SIZE = 100 * 1024;\n",
              "\n",
              "function _uploadFiles(inputId, outputId) {\n",
              "  const steps = uploadFilesStep(inputId, outputId);\n",
              "  const outputElement = document.getElementById(outputId);\n",
              "  // Cache steps on the outputElement to make it available for the next call\n",
              "  // to uploadFilesContinue from Python.\n",
              "  outputElement.steps = steps;\n",
              "\n",
              "  return _uploadFilesContinue(outputId);\n",
              "}\n",
              "\n",
              "// This is roughly an async generator (not supported in the browser yet),\n",
              "// where there are multiple asynchronous steps and the Python side is going\n",
              "// to poll for completion of each step.\n",
              "// This uses a Promise to block the python side on completion of each step,\n",
              "// then passes the result of the previous step as the input to the next step.\n",
              "function _uploadFilesContinue(outputId) {\n",
              "  const outputElement = document.getElementById(outputId);\n",
              "  const steps = outputElement.steps;\n",
              "\n",
              "  const next = steps.next(outputElement.lastPromiseValue);\n",
              "  return Promise.resolve(next.value.promise).then((value) => {\n",
              "    // Cache the last promise value to make it available to the next\n",
              "    // step of the generator.\n",
              "    outputElement.lastPromiseValue = value;\n",
              "    return next.value.response;\n",
              "  });\n",
              "}\n",
              "\n",
              "/**\n",
              " * Generator function which is called between each async step of the upload\n",
              " * process.\n",
              " * @param {string} inputId Element ID of the input file picker element.\n",
              " * @param {string} outputId Element ID of the output display.\n",
              " * @return {!Iterable<!Object>} Iterable of next steps.\n",
              " */\n",
              "function* uploadFilesStep(inputId, outputId) {\n",
              "  const inputElement = document.getElementById(inputId);\n",
              "  inputElement.disabled = false;\n",
              "\n",
              "  const outputElement = document.getElementById(outputId);\n",
              "  outputElement.innerHTML = '';\n",
              "\n",
              "  const pickedPromise = new Promise((resolve) => {\n",
              "    inputElement.addEventListener('change', (e) => {\n",
              "      resolve(e.target.files);\n",
              "    });\n",
              "  });\n",
              "\n",
              "  const cancel = document.createElement('button');\n",
              "  inputElement.parentElement.appendChild(cancel);\n",
              "  cancel.textContent = 'Cancel upload';\n",
              "  const cancelPromise = new Promise((resolve) => {\n",
              "    cancel.onclick = () => {\n",
              "      resolve(null);\n",
              "    };\n",
              "  });\n",
              "\n",
              "  // Wait for the user to pick the files.\n",
              "  const files = yield {\n",
              "    promise: Promise.race([pickedPromise, cancelPromise]),\n",
              "    response: {\n",
              "      action: 'starting',\n",
              "    }\n",
              "  };\n",
              "\n",
              "  cancel.remove();\n",
              "\n",
              "  // Disable the input element since further picks are not allowed.\n",
              "  inputElement.disabled = true;\n",
              "\n",
              "  if (!files) {\n",
              "    return {\n",
              "      response: {\n",
              "        action: 'complete',\n",
              "      }\n",
              "    };\n",
              "  }\n",
              "\n",
              "  for (const file of files) {\n",
              "    const li = document.createElement('li');\n",
              "    li.append(span(file.name, {fontWeight: 'bold'}));\n",
              "    li.append(span(\n",
              "        `(${file.type || 'n/a'}) - ${file.size} bytes, ` +\n",
              "        `last modified: ${\n",
              "            file.lastModifiedDate ? file.lastModifiedDate.toLocaleDateString() :\n",
              "                                    'n/a'} - `));\n",
              "    const percent = span('0% done');\n",
              "    li.appendChild(percent);\n",
              "\n",
              "    outputElement.appendChild(li);\n",
              "\n",
              "    const fileDataPromise = new Promise((resolve) => {\n",
              "      const reader = new FileReader();\n",
              "      reader.onload = (e) => {\n",
              "        resolve(e.target.result);\n",
              "      };\n",
              "      reader.readAsArrayBuffer(file);\n",
              "    });\n",
              "    // Wait for the data to be ready.\n",
              "    let fileData = yield {\n",
              "      promise: fileDataPromise,\n",
              "      response: {\n",
              "        action: 'continue',\n",
              "      }\n",
              "    };\n",
              "\n",
              "    // Use a chunked sending to avoid message size limits. See b/62115660.\n",
              "    let position = 0;\n",
              "    do {\n",
              "      const length = Math.min(fileData.byteLength - position, MAX_PAYLOAD_SIZE);\n",
              "      const chunk = new Uint8Array(fileData, position, length);\n",
              "      position += length;\n",
              "\n",
              "      const base64 = btoa(String.fromCharCode.apply(null, chunk));\n",
              "      yield {\n",
              "        response: {\n",
              "          action: 'append',\n",
              "          file: file.name,\n",
              "          data: base64,\n",
              "        },\n",
              "      };\n",
              "\n",
              "      let percentDone = fileData.byteLength === 0 ?\n",
              "          100 :\n",
              "          Math.round((position / fileData.byteLength) * 100);\n",
              "      percent.textContent = `${percentDone}% done`;\n",
              "\n",
              "    } while (position < fileData.byteLength);\n",
              "  }\n",
              "\n",
              "  // All done.\n",
              "  yield {\n",
              "    response: {\n",
              "      action: 'complete',\n",
              "    }\n",
              "  };\n",
              "}\n",
              "\n",
              "scope.google = scope.google || {};\n",
              "scope.google.colab = scope.google.colab || {};\n",
              "scope.google.colab._files = {\n",
              "  _uploadFiles,\n",
              "  _uploadFilesContinue,\n",
              "};\n",
              "})(self);\n",
              "</script> "
            ]
          },
          "metadata": {}
        },
        {
          "output_type": "stream",
          "name": "stdout",
          "text": [
            "Saving kaggle.json to kaggle.json\n"
          ]
        },
        {
          "output_type": "execute_result",
          "data": {
            "text/plain": [
              "{'kaggle.json': b'{\"username\":\"biplabnayak\",\"key\":\"b574a2df708b388dce2cf674aa6a32eb\"}'}"
            ]
          },
          "metadata": {},
          "execution_count": 2
        }
      ]
    },
    {
      "cell_type": "code",
      "source": [
        "!mkdir ~/.kaggle"
      ],
      "metadata": {
        "id": "tHsBWQEAJexm"
      },
      "execution_count": null,
      "outputs": []
    },
    {
      "cell_type": "code",
      "source": [
        "! cp kaggle.json ~/.kaggle/"
      ],
      "metadata": {
        "id": "UuyzDjppJpP5"
      },
      "execution_count": null,
      "outputs": []
    },
    {
      "cell_type": "code",
      "source": [
        "! chmod 600 ~/.kaggle/kaggle.json"
      ],
      "metadata": {
        "id": "FaDUg8cJKNkI"
      },
      "execution_count": null,
      "outputs": []
    },
    {
      "cell_type": "code",
      "source": [
        "!kaggle datasets download -d mohamedhanyyy/chest-ctscan-images"
      ],
      "metadata": {
        "colab": {
          "base_uri": "https://localhost:8080/"
        },
        "id": "JIkVEDnGKPbT",
        "outputId": "a23f0c86-8c72-441f-9c1d-5db1c8df9eff"
      },
      "execution_count": null,
      "outputs": [
        {
          "output_type": "stream",
          "name": "stdout",
          "text": [
            "Downloading chest-ctscan-images.zip to /content\n",
            " 87% 103M/119M [00:00<00:00, 138MB/s] \n",
            "100% 119M/119M [00:00<00:00, 146MB/s]\n"
          ]
        }
      ]
    },
    {
      "cell_type": "code",
      "source": [
        "!unzip chest-ctscan-images.zip"
      ],
      "metadata": {
        "id": "AuWpGLQQKcL8"
      },
      "execution_count": null,
      "outputs": []
    },
    {
      "cell_type": "code",
      "source": [
        "!rm chest-ctscan-images.zip"
      ],
      "metadata": {
        "id": "pc6hlIdPTTQa"
      },
      "execution_count": null,
      "outputs": []
    },
    {
      "cell_type": "code",
      "source": [
        "import os\n",
        "import numpy as np\n",
        "import pandas as pd"
      ],
      "metadata": {
        "id": "GDaf6_nHKnUd"
      },
      "execution_count": null,
      "outputs": []
    },
    {
      "cell_type": "code",
      "source": [
        "os.getcwd()"
      ],
      "metadata": {
        "colab": {
          "base_uri": "https://localhost:8080/",
          "height": 35
        },
        "id": "6ctcngHOKtFK",
        "outputId": "50f6a286-1171-4c3a-9cdb-9f08ff58dfda"
      },
      "execution_count": null,
      "outputs": [
        {
          "output_type": "execute_result",
          "data": {
            "text/plain": [
              "'/content'"
            ],
            "application/vnd.google.colaboratory.intrinsic+json": {
              "type": "string"
            }
          },
          "metadata": {},
          "execution_count": 10
        }
      ]
    },
    {
      "cell_type": "code",
      "source": [
        "os.listdir('/content/Data/train')"
      ],
      "metadata": {
        "colab": {
          "base_uri": "https://localhost:8080/"
        },
        "id": "yRzGH8WCKvme",
        "outputId": "cef7e6a7-993b-4408-fd6b-c173d826074e"
      },
      "execution_count": null,
      "outputs": [
        {
          "output_type": "execute_result",
          "data": {
            "text/plain": [
              "['squamous.cell.carcinoma_left.hilum_T1_N2_M0_IIIa',\n",
              " 'adenocarcinoma_left.lower.lobe_T2_N0_M0_Ib',\n",
              " 'normal',\n",
              " 'large.cell.carcinoma_left.hilum_T2_N2_M0_IIIa']"
            ]
          },
          "metadata": {},
          "execution_count": 11
        }
      ]
    },
    {
      "cell_type": "code",
      "source": [
        "import cv2\n",
        "import matplotlib.pyplot as plt\n"
      ],
      "metadata": {
        "id": "zhn9ZjOeKye0"
      },
      "execution_count": null,
      "outputs": []
    },
    {
      "cell_type": "code",
      "source": [
        "class_labels={'adenocarcinoma':1,'large.cell.carcinoma':2,'squamous.cell.carcinoma':3,'normal':0}"
      ],
      "metadata": {
        "id": "QZtvYYAOLA2x"
      },
      "execution_count": null,
      "outputs": []
    },
    {
      "cell_type": "code",
      "source": [
        "class_names=['adenocarcinoma','large.cell.carcinoma','squamous.cell.carcinoma','normal']"
      ],
      "metadata": {
        "id": "SMTdngKZLt6L"
      },
      "execution_count": null,
      "outputs": []
    },
    {
      "cell_type": "code",
      "source": [
        "cl={'adenocarcinoma_left.lower.lobe_T2_N0_M0_Ib':1,'large.cell.carcinoma_left.hilum_T2_N2_M0_IIIa':2,'squamous.cell.carcinoma_left.hilum_T1_N2_M0_IIIa':3,'normal':0}"
      ],
      "metadata": {
        "id": "2NDhlpeMOlGE"
      },
      "execution_count": null,
      "outputs": []
    },
    {
      "cell_type": "code",
      "source": [
        "IMG_SIZE = 224\n",
        "X_image_train = []\n",
        "Y_image = []\n",
        "\n",
        "for i in os.listdir('/content/Data/train'):\n",
        "    train_class = os.listdir(os.path.join('/content/Data/train', i))\n",
        "    for j in train_class:\n",
        "\n",
        "      img = os.path.join('/content/Data/train', i, j)\n",
        "      img = cv2.imread(img)\n",
        "      img = cv2.cvtColor(img, cv2.COLOR_BGR2RGB)\n",
        "      img = cv2.resize(img, (IMG_SIZE,IMG_SIZE))\n",
        "      X_image_train.append(img)\n",
        "      Y_image.append(cl[i])\n",
        "print(len(X_image_train))\n"
      ],
      "metadata": {
        "colab": {
          "base_uri": "https://localhost:8080/"
        },
        "id": "adi0tDxCMAvw",
        "outputId": "8c9f5d09-153a-4f1e-e22d-671ed443b672"
      },
      "execution_count": null,
      "outputs": [
        {
          "output_type": "stream",
          "name": "stdout",
          "text": [
            "613\n"
          ]
        }
      ]
    },
    {
      "cell_type": "code",
      "source": [
        "plt.imshow(X_image_train[0])"
      ],
      "metadata": {
        "colab": {
          "base_uri": "https://localhost:8080/",
          "height": 451
        },
        "id": "-oPTvTtHNpgF",
        "outputId": "e80bbb77-3acb-4b5c-bf69-71c4ed06154b"
      },
      "execution_count": null,
      "outputs": [
        {
          "output_type": "execute_result",
          "data": {
            "text/plain": [
              "<matplotlib.image.AxesImage at 0x7f7c128e6590>"
            ]
          },
          "metadata": {},
          "execution_count": 17
        },
        {
          "output_type": "display_data",
          "data": {
            "text/plain": [
              "<Figure size 640x480 with 1 Axes>"
            ],
            "image/png": "[encoded data removed]"
          },
          "metadata": {}
        }
      ]
    },
    {
      "cell_type": "code",
      "source": [
        "for i in os.listdir('/content/Data/test'):\n",
        "    train_class = os.listdir(os.path.join('/content/Data/test', i))\n",
        "    for j in train_class:\n",
        "\n",
        "      img = os.path.join('/content/Data/test', i, j)\n",
        "      img = cv2.imread(img)\n",
        "      img = cv2.cvtColor(img, cv2.COLOR_BGR2RGB)\n",
        "      img = cv2.resize(img, (IMG_SIZE,IMG_SIZE))\n",
        "      X_image_train.append(img)\n",
        "      Y_image.append(class_labels[i])\n",
        "print(len(X_image_train))"
      ],
      "metadata": {
        "colab": {
          "base_uri": "https://localhost:8080/"
        },
        "id": "VEpn9OtsPApb",
        "outputId": "649e4932-86d1-4789-9930-bc9dd0fbd367"
      },
      "execution_count": null,
      "outputs": [
        {
          "output_type": "stream",
          "name": "stdout",
          "text": [
            "928\n"
          ]
        }
      ]
    },
    {
      "cell_type": "code",
      "source": [
        "for i in os.listdir('/content/Data/valid'):\n",
        "    train_class = os.listdir(os.path.join('/content/Data/valid', i))\n",
        "    for j in train_class:\n",
        "\n",
        "      img = os.path.join('/content/Data/valid', i, j)\n",
        "      img = cv2.imread(img)\n",
        "      img = cv2.cvtColor(img, cv2.COLOR_BGR2RGB)\n",
        "      img = cv2.resize(img, (IMG_SIZE,IMG_SIZE))\n",
        "      X_image_train.append(img)\n",
        "      Y_image.append(cl[i])\n",
        "print(len(X_image_train))"
      ],
      "metadata": {
        "colab": {
          "base_uri": "https://localhost:8080/"
        },
        "id": "oURf2xcWPYzC",
        "outputId": "c9983639-527e-4e53-ba95-3c5028e96c3a"
      },
      "execution_count": null,
      "outputs": [
        {
          "output_type": "stream",
          "name": "stdout",
          "text": [
            "1000\n"
          ]
        }
      ]
    },
    {
      "cell_type": "code",
      "source": [
        "X_image_array=[]\n",
        "for x in range(0, len(X_image_train)):\n",
        "    X_image=np.array(X_image_train[x],dtype='uint8')\n",
        "    X_image_array.append(X_image)"
      ],
      "metadata": {
        "id": "coUvdIaaPiVB"
      },
      "execution_count": null,
      "outputs": []
    },
    {
      "cell_type": "code",
      "source": [
        "labels= []\n",
        "for x in Y_image:\n",
        "    a = []\n",
        "    a.append(x)\n",
        "    labels.append(a)\n",
        "labels = np.array(labels,dtype='uint8')\n",
        "labels.shape"
      ],
      "metadata": {
        "colab": {
          "base_uri": "https://localhost:8080/"
        },
        "id": "016Wj6-vPnaa",
        "outputId": "419fbfc4-e227-4f4f-b7d2-c353dfce8a50"
      },
      "execution_count": null,
      "outputs": [
        {
          "output_type": "execute_result",
          "data": {
            "text/plain": [
              "(1000, 1)"
            ]
          },
          "metadata": {},
          "execution_count": 21
        }
      ]
    },
    {
      "cell_type": "code",
      "source": [
        "target1 = labels\n",
        "features = np.array(X_image_array)\n",
        "features.shape"
      ],
      "metadata": {
        "colab": {
          "base_uri": "https://localhost:8080/"
        },
        "id": "4388ZmOsPqQI",
        "outputId": "0e642e1c-2f67-4192-c0ce-010ba3d7a7f7"
      },
      "execution_count": null,
      "outputs": [
        {
          "output_type": "execute_result",
          "data": {
            "text/plain": [
              "(1000, 224, 224, 3)"
            ]
          },
          "metadata": {},
          "execution_count": 22
        }
      ]
    },
    {
      "cell_type": "code",
      "source": [
        "import os\n",
        "import numpy as np\n",
        "import pandas as pd\n",
        "import cv2\n",
        "import tensorflow as tf\n",
        "from tensorflow import keras\n",
        "import seaborn as sns\n",
        "import matplotlib.pyplot as plt\n",
        "\n",
        "from sklearn.utils import shuffle\n",
        "from sklearn.preprocessing import LabelEncoder\n",
        "from sklearn.model_selection import train_test_split, StratifiedKFold\n",
        "from sklearn.metrics import precision_score, recall_score, confusion_matrix, classification_report, accuracy_score, roc_curve, auc\n",
        "\n",
        "from tensorflow.keras.applications import VGG19\n",
        "from tensorflow.keras.applications import DenseNet121\n",
        "from tensorflow.keras.applications import MobileNet\n",
        "from tensorflow.keras.applications.resnet50 import ResNet50,preprocess_input\n",
        "from tensorflow.keras.applications.inception_resnet_v2 import InceptionResNetV2\n",
        "#import tensorflow_addons as tfa\n",
        "from tensorflow.keras import backend as K\n",
        "from tensorflow.keras.utils import plot_model, to_categorical\n",
        "from tensorflow.keras.optimizers import SGD, Adam\n",
        "from tensorflow.keras.initializers import glorot_uniform\n",
        "from tensorflow.keras.models import Model, load_model, Sequential\n",
        "from tensorflow.keras.preprocessing.image import ImageDataGenerator\n",
        "from tensorflow.keras.layers import GlobalAveragePooling2D, Input, AveragePooling2D, Dense, Flatten, Dropout\n",
        "from tensorflow.keras.layers import BatchNormalization, ZeroPadding2D, Conv2D, Activation, MaxPooling2D, MaxPool2D, Add\n",
        "from tensorflow.keras.callbacks import ReduceLROnPlateau, EarlyStopping, ModelCheckpoint, LearningRateScheduler"
      ],
      "metadata": {
        "id": "rJz1u7wyPvJ-"
      },
      "execution_count": null,
      "outputs": []
    },
    {
      "cell_type": "code",
      "source": [
        "folds = StratifiedKFold(n_splits=5, shuffle=True, random_state = 5)\n",
        "training = features\n",
        "target = labels\n",
        "for trn_idx, val_idx in folds.split(training, target):\n",
        "    print(\"TRAIN:\", trn_idx, \"TEST:\", val_idx)\n",
        "    trainX, x_test = training[trn_idx], training[val_idx]\n",
        "    trainY, y_test = target[trn_idx], target[val_idx]\n",
        "    break"
      ],
      "metadata": {
        "id": "VoTULVt5Pykk",
        "colab": {
          "base_uri": "https://localhost:8080/"
        },
        "outputId": "63d7808e-787c-464d-84ba-87c90b951579"
      },
      "execution_count": null,
      "outputs": [
        {
          "output_type": "stream",
          "name": "stdout",
          "text": [
            "TRAIN: [  0   1   2   3   4   5   6   7   8   9  10  11  12  13  14  15  16  17\n",
            "  18  19  20  21  23  24  25  26  27  29  30  31  32  33  34  36  37  38\n",
            "  39  40  41  42  43  45  46  48  50  57  58  59  60  61  62  63  65  67\n",
            "  68  69  70  71  72  73  75  76  77  78  79  81  82  83  84  85  86  87\n",
            "  89  90  91  95  97  98  99 100 101 102 104 105 106 107 108 109 110 111\n",
            " 112 113 114 116 117 118 119 121 122 123 124 125 126 127 128 129 131 133\n",
            " 135 137 138 139 141 142 144 146 148 149 151 152 153 154 155 157 160 161\n",
            " 162 163 164 165 167 169 170 172 173 176 177 178 179 180 181 182 183 187\n",
            " 188 190 191 192 193 194 195 196 197 198 199 200 201 202 203 204 205 206\n",
            " 207 208 209 210 211 213 215 216 217 218 219 220 222 223 225 226 227 231\n",
            " 232 233 234 235 236 237 238 240 241 243 245 246 248 250 251 252 253 254\n",
            " 255 256 258 259 260 262 264 265 266 267 268 269 271 272 273 274 275 276\n",
            " 277 278 279 280 282 283 284 285 286 287 288 289 290 291 292 293 295 296\n",
            " 297 298 299 300 302 303 304 306 307 308 310 311 312 313 316 317 318 319\n",
            " 320 321 323 325 327 328 329 330 333 336 337 338 339 340 341 342 343 344\n",
            " 345 346 347 348 349 350 351 353 354 355 357 358 359 360 361 362 363 364\n",
            " 367 369 370 371 372 373 374 375 376 377 378 379 380 381 382 383 384 385\n",
            " 386 388 389 391 392 393 394 395 396 398 401 403 404 406 408 409 410 411\n",
            " 413 415 416 417 418 419 420 422 423 424 426 428 429 430 431 433 434 435\n",
            " 436 437 439 440 441 442 443 444 445 446 447 448 449 450 451 452 454 455\n",
            " 456 459 460 461 462 463 465 466 467 468 469 471 472 473 475 476 478 480\n",
            " 481 482 483 485 487 488 489 490 491 492 493 494 495 496 497 499 500 501\n",
            " 502 503 505 510 511 512 513 514 515 516 517 518 519 520 522 523 525 526\n",
            " 528 529 530 531 532 533 534 535 536 537 538 539 540 541 542 543 544 545\n",
            " 547 548 553 554 555 556 557 558 559 560 561 562 563 564 566 567 568 569\n",
            " 570 572 574 575 576 577 578 579 580 582 583 584 585 586 587 588 589 590\n",
            " 591 592 593 594 595 596 598 599 601 602 603 604 606 607 609 610 614 615\n",
            " 616 617 618 619 620 621 622 623 626 627 629 631 632 633 634 635 636 637\n",
            " 638 639 640 641 642 643 644 645 646 648 649 650 651 652 656 657 658 659\n",
            " 660 661 662 664 665 666 667 668 669 670 671 673 674 675 676 677 679 680\n",
            " 682 683 684 685 686 687 689 691 692 693 694 695 696 697 698 699 700 701\n",
            " 702 703 705 706 707 708 710 711 712 714 715 716 717 718 719 720 723 724\n",
            " 725 726 727 728 729 730 731 732 733 735 736 738 739 741 742 743 744 745\n",
            " 746 748 750 751 752 753 754 755 757 758 759 760 761 762 763 764 766 767\n",
            " 768 769 770 771 772 773 774 775 776 777 778 779 780 783 784 785 786 787\n",
            " 788 789 791 792 793 794 796 797 798 799 803 804 805 806 807 808 809 810\n",
            " 811 812 813 815 817 818 819 820 821 822 823 824 825 826 827 828 829 831\n",
            " 832 833 834 835 836 838 839 840 841 842 843 844 845 846 847 848 849 850\n",
            " 852 853 854 855 856 857 858 859 861 863 865 867 868 870 871 872 873 874\n",
            " 875 876 877 879 880 881 882 883 884 885 887 888 890 893 894 895 896 897\n",
            " 898 899 901 903 904 905 906 907 908 910 911 912 913 914 915 916 918 919\n",
            " 920 921 924 925 926 927 928 929 931 932 933 934 935 936 937 939 940 941\n",
            " 942 944 945 946 947 948 949 951 952 953 954 956 957 959 960 962 964 967\n",
            " 968 969 971 973 974 975 976 977 978 979 980 981 982 983 984 985 986 987\n",
            " 988 991 992 993 994 995 996 997] TEST: [ 22  28  35  44  47  49  51  52  53  54  55  56  64  66  74  80  88  92\n",
            "  93  94  96 103 115 120 130 132 134 136 140 143 145 147 150 156 158 159\n",
            " 166 168 171 174 175 184 185 186 189 212 214 221 224 228 229 230 239 242\n",
            " 244 247 249 257 261 263 270 281 294 301 305 309 314 315 322 324 326 331\n",
            " 332 334 335 352 356 365 366 368 387 390 397 399 400 402 405 407 412 414\n",
            " 421 425 427 432 438 453 457 458 464 470 474 477 479 484 486 498 504 506\n",
            " 507 508 509 521 524 527 546 549 550 551 552 565 571 573 581 597 600 605\n",
            " 608 611 612 613 624 625 628 630 647 653 654 655 663 672 678 681 688 690\n",
            " 704 709 713 721 722 734 737 740 747 749 756 765 781 782 790 795 800 801\n",
            " 802 814 816 830 837 851 860 862 864 866 869 878 886 889 891 892 900 902\n",
            " 909 917 922 923 930 938 943 950 955 958 961 963 965 966 970 972 989 990\n",
            " 998 999]\n"
          ]
        }
      ]
    },
    {
      "cell_type": "code",
      "source": [
        "folds = StratifiedKFold(n_splits=5, shuffle=True, random_state = 5)\n",
        "training = trainX\n",
        "target = trainY\n",
        "for trn_idx, test_idx in folds.split(training, target):\n",
        "    print(\"TRAIN:\", trn_idx, \"TEST:\", val_idx)\n",
        "    x_train, x_validate = training[trn_idx], training[test_idx]\n",
        "    y_train, y_validate = target[trn_idx], target[test_idx]\n",
        "    break"
      ],
      "metadata": {
        "id": "-oj1z82AP4Tn",
        "colab": {
          "base_uri": "https://localhost:8080/"
        },
        "outputId": "f6ac38c0-a3b3-47d7-89eb-63bd8c8482b0"
      },
      "execution_count": null,
      "outputs": [
        {
          "output_type": "stream",
          "name": "stdout",
          "text": [
            "TRAIN: [  0   2   3   5   8   9  10  12  13  14  15  16  17  18  19  20  21  22\n",
            "  23  24  27  28  29  30  31  32  33  34  35  36  37  39  41  43  44  45\n",
            "  46  47  48  50  51  52  53  54  56  58  59  60  61  62  63  64  65  66\n",
            "  67  68  69  70  72  73  74  75  77  78  79  80  81  82  83  85  87  88\n",
            "  89  91  93  94  95  96  97  98  99 100 101 102 104 105 106 107 110 111\n",
            " 112 113 114 116 117 118 119 120 122 124 125 126 127 128 129 131 132 133\n",
            " 134 135 136 137 138 139 140 141 142 143 144 145 146 147 148 149 150 151\n",
            " 152 153 154 155 156 157 160 161 163 164 165 166 168 169 171 172 173 174\n",
            " 176 177 179 180 181 182 183 184 185 187 188 190 191 192 193 194 195 196\n",
            " 197 198 199 201 203 204 205 207 208 209 210 211 213 214 215 216 217 218\n",
            " 219 220 221 222 223 224 225 228 229 231 233 234 235 236 237 238 239 240\n",
            " 241 242 244 245 246 247 248 249 250 251 252 253 254 256 257 258 260 261\n",
            " 262 263 264 266 267 268 269 271 272 273 275 276 277 278 279 280 282 283\n",
            " 284 285 286 287 288 289 290 291 294 295 296 297 298 300 301 302 303 304\n",
            " 305 306 307 308 309 310 311 312 313 314 315 317 318 319 320 321 323 324\n",
            " 325 327 329 330 331 332 333 335 336 337 338 339 340 342 343 344 345 347\n",
            " 349 350 351 352 353 354 357 359 360 361 362 363 365 366 367 368 369 370\n",
            " 371 373 374 375 376 377 378 379 381 383 384 385 386 387 389 391 393 394\n",
            " 396 397 398 399 400 401 403 404 406 407 410 411 412 413 414 416 417 418\n",
            " 419 420 421 422 423 424 425 426 427 428 429 430 432 433 434 435 436 437\n",
            " 438 439 440 441 442 443 447 448 451 453 454 455 456 459 460 461 462 464\n",
            " 466 467 468 470 472 473 474 475 477 478 479 480 481 482 483 484 485 486\n",
            " 487 488 489 490 491 493 494 495 496 499 500 501 502 503 504 505 506 508\n",
            " 512 513 514 516 517 519 520 521 522 523 524 525 526 528 530 532 533 534\n",
            " 535 537 540 541 542 543 544 545 547 549 550 551 552 553 556 557 558 559\n",
            " 561 562 563 564 565 566 567 569 570 571 572 576 577 578 580 581 582 583\n",
            " 585 586 588 589 591 592 593 594 596 597 598 600 602 603 604 605 606 607\n",
            " 608 609 610 611 614 615 616 617 618 619 620 621 622 623 625 626 627 628\n",
            " 629 631 632 633 634 635 636 637 638 640 641 642 643 644 645 646 647 649\n",
            " 651 652 653 655 656 657 658 659 660 661 662 663 665 666 667 668 670 671\n",
            " 672 673 674 676 677 678 679 680 681 682 683 684 685 687 688 689 690 691\n",
            " 693 695 697 698 700 701 702 703 704 706 707 708 709 710 712 713 715 718\n",
            " 719 720 721 722 724 726 727 728 730 731 732 733 734 735 737 738 739 741\n",
            " 742 743 744 746 747 748 749 751 752 753 754 755 756 757 760 761 762 764\n",
            " 766 768 769 770 771 772 773 774 775 776 778 779 781 782 783 785 787 788\n",
            " 789 790 791 792 793 795 796 797 798 799] TEST: [ 22  28  35  44  47  49  51  52  53  54  55  56  64  66  74  80  88  92\n",
            "  93  94  96 103 115 120 130 132 134 136 140 143 145 147 150 156 158 159\n",
            " 166 168 171 174 175 184 185 186 189 212 214 221 224 228 229 230 239 242\n",
            " 244 247 249 257 261 263 270 281 294 301 305 309 314 315 322 324 326 331\n",
            " 332 334 335 352 356 365 366 368 387 390 397 399 400 402 405 407 412 414\n",
            " 421 425 427 432 438 453 457 458 464 470 474 477 479 484 486 498 504 506\n",
            " 507 508 509 521 524 527 546 549 550 551 552 565 571 573 581 597 600 605\n",
            " 608 611 612 613 624 625 628 630 647 653 654 655 663 672 678 681 688 690\n",
            " 704 709 713 721 722 734 737 740 747 749 756 765 781 782 790 795 800 801\n",
            " 802 814 816 830 837 851 860 862 864 866 869 878 886 889 891 892 900 902\n",
            " 909 917 922 923 930 938 943 950 955 958 961 963 965 966 970 972 989 990\n",
            " 998 999]\n"
          ]
        }
      ]
    },
    {
      "cell_type": "code",
      "source": [
        "X_image_array = []\n",
        "features = []"
      ],
      "metadata": {
        "id": "9LHM5VoGP8bM"
      },
      "execution_count": null,
      "outputs": []
    },
    {
      "cell_type": "code",
      "source": [
        "sns.countplot(Y_image)"
      ],
      "metadata": {
        "colab": {
          "base_uri": "https://localhost:8080/",
          "height": 447
        },
        "id": "lBl1hRbFP_mc",
        "outputId": "04e4c3d9-883f-4862-e931-d2a5a842121c"
      },
      "execution_count": null,
      "outputs": [
        {
          "output_type": "execute_result",
          "data": {
            "text/plain": [
              "<Axes: ylabel='count'>"
            ]
          },
          "metadata": {},
          "execution_count": 27
        },
        {
          "output_type": "display_data",
          "data": {
            "text/plain": [
              "<Figure size 640x480 with 1 Axes>"
            ],
            "image/png": "[encoded data removed]"
          },
          "metadata": {}
        }
      ]
    },
    {
      "cell_type": "code",
      "source": [
        "import PIL\n",
        "from PIL import Image"
      ],
      "metadata": {
        "id": "OMZcRleOQBmc"
      },
      "execution_count": null,
      "outputs": []
    },
    {
      "cell_type": "code",
      "source": [
        "No_images_per_class = []\n",
        "for i in os.listdir('/content/Data/train'):\n",
        "\n",
        "  train_class = os.listdir(os.path.join('/content/Data/train', i))\n",
        "  No_images_per_class.append(len(train_class))\n",
        "  print('Number of images in {} = {} \\n'.format(i, len(train_class)))"
      ],
      "metadata": {
        "colab": {
          "base_uri": "https://localhost:8080/"
        },
        "id": "ySZIb-P8QEv-",
        "outputId": "520f437f-43f6-4838-bcd6-290c99673937"
      },
      "execution_count": null,
      "outputs": [
        {
          "output_type": "stream",
          "name": "stdout",
          "text": [
            "Number of images in squamous.cell.carcinoma_left.hilum_T1_N2_M0_IIIa = 155 \n",
            "\n",
            "Number of images in adenocarcinoma_left.lower.lobe_T2_N0_M0_Ib = 195 \n",
            "\n",
            "Number of images in normal = 148 \n",
            "\n",
            "Number of images in large.cell.carcinoma_left.hilum_T2_N2_M0_IIIa = 115 \n",
            "\n"
          ]
        }
      ]
    },
    {
      "cell_type": "code",
      "source": [
        "No_images_per_class = []\n",
        "for i in os.listdir('/content/Data/test'):\n",
        "\n",
        "  train_class = os.listdir(os.path.join('/content/Data/test', i))\n",
        "  No_images_per_class.append(len(train_class))\n",
        "  print('Number of images in {} = {} \\n'.format(i, len(train_class)))"
      ],
      "metadata": {
        "colab": {
          "base_uri": "https://localhost:8080/"
        },
        "id": "WAINByGUQlsT",
        "outputId": "dbe86c2d-e64e-4e11-a26e-6206f91257f9"
      },
      "execution_count": null,
      "outputs": [
        {
          "output_type": "stream",
          "name": "stdout",
          "text": [
            "Number of images in normal = 54 \n",
            "\n",
            "Number of images in adenocarcinoma = 120 \n",
            "\n",
            "Number of images in large.cell.carcinoma = 51 \n",
            "\n",
            "Number of images in squamous.cell.carcinoma = 90 \n",
            "\n"
          ]
        }
      ]
    },
    {
      "cell_type": "code",
      "source": [
        "No_images_per_class = []\n",
        "for i in os.listdir('/content/Data/valid'):\n",
        "\n",
        "  train_class = os.listdir(os.path.join('/content/Data/valid', i))\n",
        "  No_images_per_class.append(len(train_class))\n",
        "  print('Number of images in {} = {} \\n'.format(i, len(train_class)))"
      ],
      "metadata": {
        "colab": {
          "base_uri": "https://localhost:8080/"
        },
        "id": "dUmY5NjIQu5g",
        "outputId": "db77df5d-82cd-47b2-e3af-5c8ece660f96"
      },
      "execution_count": null,
      "outputs": [
        {
          "output_type": "stream",
          "name": "stdout",
          "text": [
            "Number of images in squamous.cell.carcinoma_left.hilum_T1_N2_M0_IIIa = 15 \n",
            "\n",
            "Number of images in adenocarcinoma_left.lower.lobe_T2_N0_M0_Ib = 23 \n",
            "\n",
            "Number of images in normal = 13 \n",
            "\n",
            "Number of images in large.cell.carcinoma_left.hilum_T2_N2_M0_IIIa = 21 \n",
            "\n"
          ]
        }
      ]
    },
    {
      "cell_type": "code",
      "source": [
        "fig1, ax1 = plt.subplots()\n",
        "ax1.pie(No_images_per_class, labels= class_names)"
      ],
      "metadata": {
        "colab": {
          "base_uri": "https://localhost:8080/",
          "height": 545
        },
        "id": "SrnY1hqCQzgy",
        "outputId": "27b3b6a5-32dc-43d8-8616-733a66c1511d"
      },
      "execution_count": null,
      "outputs": [
        {
          "output_type": "execute_result",
          "data": {
            "text/plain": [
              "([<matplotlib.patches.Wedge at 0x7f7ba4ec7d90>,\n",
              "  <matplotlib.patches.Wedge at 0x7f7ba4ea0b80>,\n",
              "  <matplotlib.patches.Wedge at 0x7f7c07f24670>,\n",
              "  <matplotlib.patches.Wedge at 0x7f7c07f24b50>],\n",
              " [Text(0.872688684769691, 0.6696375582917576, 'adenocarcinoma'),\n",
              "  Text(-0.7431492115034984, 0.811005085953059, 'large.cell.carcinoma'),\n",
              "  Text(-0.811005085953059, -0.7431492115034984, 'squamous.cell.carcinoma'),\n",
              "  Text(0.6696375174382511, -0.8726887161176866, 'normal')])"
            ]
          },
          "metadata": {},
          "execution_count": 32
        },
        {
          "output_type": "display_data",
          "data": {
            "text/plain": [
              "<Figure size 640x480 with 1 Axes>"
            ],
            "image/png": "[encoded data removed]"
          },
          "metadata": {}
        }
      ]
    },
    {
      "cell_type": "markdown",
      "source": [
        "##RESNET"
      ],
      "metadata": {
        "id": "dqWxA6tVQ-Ps"
      }
    },
    {
      "cell_type": "code",
      "source": [
        "IMAGE_SIZE = (224, 224, 3)\n",
        "\n",
        "trainAug = ImageDataGenerator(rotation_range=15, fill_mode=\"nearest\")\n",
        "baseModel = ResNet50(input_shape=IMAGE_SIZE, weights=\"imagenet\", include_top=False)\n",
        "\n",
        "baseModel.summary()"
      ],
      "metadata": {
        "id": "nHNC67ZZQ532"
      },
      "execution_count": null,
      "outputs": []
    },
    {
      "cell_type": "code",
      "source": [
        "headModel = baseModel.output\n",
        "headModel = AveragePooling2D(pool_size=(4, 4))(headModel)\n",
        "#headModel = Flatten(name=\"flatten\")(headModel)\n",
        "headModel = Dense(1024, activation=\"relu\")(headModel)\n",
        "headModel = Dense(512, activation=\"relu\")(headModel)\n",
        "headModel = Dense(64, activation=\"relu\")(headModel)\n",
        "headModel = Dropout(0.5)(headModel)\n",
        "headModel = GlobalAveragePooling2D()(headModel)\n",
        "headModel = Dense(4, activation=\"softmax\")(headModel)\n",
        "\n",
        "res_model = Model(inputs=baseModel.input, outputs=headModel)\n",
        "\n",
        "for layer in baseModel.layers:\n",
        "    layer.trainable = False"
      ],
      "metadata": {
        "id": "3V-iJ1DQRB30"
      },
      "execution_count": null,
      "outputs": []
    },
    {
      "cell_type": "code",
      "source": [
        "res_model.compile(optimizer = 'adam', loss = 'SparseCategoricalCrossentropy', metrics= ['accuracy'],run_eagerly=True)\n",
        "\n",
        "earlystopping = EarlyStopping(monitor='val_loss', mode='min', verbose=1, patience=5)\n",
        "checkpointer = ModelCheckpoint(filepath=\"RES_weights.hdf5\", verbose=1, save_best_only=True)"
      ],
      "metadata": {
        "id": "InhNrc7fRF5N"
      },
      "execution_count": null,
      "outputs": []
    },
    {
      "cell_type": "code",
      "source": [
        "res_history = res_model.fit(x_train,\n",
        "                            y_train,\n",
        "                            batch_size=50,\n",
        "                            epochs=5,\n",
        "                            validation_data=(x_validate, y_validate),\n",
        "                            callbacks=[checkpointer, earlystopping],)\n"
      ],
      "metadata": {
        "colab": {
          "base_uri": "https://localhost:8080/",
          "height": 400
        },
        "id": "FjiO6hG2RJuQ",
        "outputId": "1fff7d7c-f126-47d1-92fb-f0d1e4bb325e"
      },
      "execution_count": null,
      "outputs": [
        {
          "output_type": "stream",
          "name": "stdout",
          "text": [
            "Epoch 1/5\n",
            "13/13 [==============================] - ETA: 0s - loss: 1.3717 - accuracy: 0.4125 \n",
            "Epoch 1: val_loss improved from inf to 0.92654, saving model to RES_weights.hdf5\n",
            "13/13 [==============================] - 579s 45s/step - loss: 1.3717 - accuracy: 0.4125 - val_loss: 0.9265 - val_accuracy: 0.5375\n",
            "Epoch 2/5\n",
            "13/13 [==============================] - ETA: 0s - loss: 0.9969 - accuracy: 0.5031 \n",
            "Epoch 2: val_loss improved from 0.92654 to 0.88125, saving model to RES_weights.hdf5\n",
            "13/13 [==============================] - 560s 43s/step - loss: 0.9969 - accuracy: 0.5031 - val_loss: 0.8813 - val_accuracy: 0.5375\n",
            "Epoch 3/5\n",
            "13/13 [==============================] - ETA: 0s - loss: 0.9361 - accuracy: 0.5031 \n",
            "Epoch 3: val_loss improved from 0.88125 to 0.86741, saving model to RES_weights.hdf5\n",
            "13/13 [==============================] - 559s 43s/step - loss: 0.9361 - accuracy: 0.5031 - val_loss: 0.8674 - val_accuracy: 0.5750\n",
            "Epoch 4/5\n",
            "13/13 [==============================] - ETA: 0s - loss: 0.8673 - accuracy: 0.5781 \n",
            "Epoch 4: val_loss improved from 0.86741 to 0.80337, saving model to RES_weights.hdf5\n",
            "13/13 [==============================] - 565s 44s/step - loss: 0.8673 - accuracy: 0.5781 - val_loss: 0.8034 - val_accuracy: 0.6062\n",
            "Epoch 5/5\n",
            "13/13 [==============================] - ETA: 0s - loss: 0.8173 - accuracy: 0.6187 \n",
            "Epoch 5: val_loss improved from 0.80337 to 0.75844, saving model to RES_weights.hdf5\n",
            "13/13 [==============================] - 563s 43s/step - loss: 0.8173 - accuracy: 0.6187 - val_loss: 0.7584 - val_accuracy: 0.7000\n"
          ]
        },
        {
          "output_type": "execute_result",
          "data": {
            "text/plain": [
              "'\\nhistory = res_model.fit_generator(\\n    train_gen,\\n    validation_data = val_gen,\\n    epochs = 10,\\n    steps_per_epoch = len(train_gen) // 32, # 32 is the batch_size\\n    validation_steps = len(val_gen) // 32,\\n    callbacks=[checkpointer, earlystopping]\\n)'"
            ],
            "application/vnd.google.colaboratory.intrinsic+json": {
              "type": "string"
            }
          },
          "metadata": {},
          "execution_count": 38
        }
      ]
    },
    {
      "cell_type": "markdown",
      "source": [
        "##VGG19"
      ],
      "metadata": {
        "id": "Vv8-pZgtRRhh"
      }
    },
    {
      "cell_type": "code",
      "source": [
        "trainAug = ImageDataGenerator(rotation_range=15, fill_mode=\"nearest\")\n",
        "baseModel = VGG19(weights=\"imagenet\", include_top=False, input_tensor=Input(shape=(224, 224, 3)))\n",
        "\n",
        "baseModel.summary()"
      ],
      "metadata": {
        "id": "sRMMI3LZRMmO"
      },
      "execution_count": null,
      "outputs": []
    },
    {
      "cell_type": "code",
      "source": [
        "headModel = baseModel.output\n",
        "headModel = AveragePooling2D(pool_size=(4, 4))(headModel)\n",
        "#headModel = Flatten(name=\"flatten\")(headModel)\n",
        "headModel = Dense(1024, activation=\"relu\")(headModel)\n",
        "headModel = Dense(512, activation=\"relu\")(headModel)\n",
        "headModel = Dense(64, activation=\"relu\")(headModel)\n",
        "headModel = Dropout(0.5)(headModel)\n",
        "headModel = GlobalAveragePooling2D()(headModel)\n",
        "headModel = Dense(4, activation=\"softmax\")(headModel)\n",
        "\n",
        "vgg_model = Model(inputs=baseModel.input, outputs=headModel)\n",
        "\n",
        "for layer in baseModel.layers:\n",
        "    layer.trainable = False"
      ],
      "metadata": {
        "id": "Vo6-aju56QVx"
      },
      "execution_count": null,
      "outputs": []
    },
    {
      "cell_type": "code",
      "source": [
        "vgg_model.summary()"
      ],
      "metadata": {
        "id": "DaumSAY46ZKx",
        "colab": {
          "base_uri": "https://localhost:8080/"
        },
        "outputId": "0a68f107-a4ea-42d5-e308-0d89c1898526"
      },
      "execution_count": null,
      "outputs": [
        {
          "output_type": "stream",
          "name": "stdout",
          "text": [
            "Model: \"model\"\n",
            "_________________________________________________________________\n",
            " Layer (type)                Output Shape              Param #   \n",
            "=================================================================\n",
            " input_2 (InputLayer)        [(None, 224, 224, 3)]     0         \n",
            "                                                                 \n",
            " block1_conv1 (Conv2D)       (None, 224, 224, 64)      1792      \n",
            "                                                                 \n",
            " block1_conv2 (Conv2D)       (None, 224, 224, 64)      36928     \n",
            "                                                                 \n",
            " block1_pool (MaxPooling2D)  (None, 112, 112, 64)      0         \n",
            "                                                                 \n",
            " block2_conv1 (Conv2D)       (None, 112, 112, 128)     73856     \n",
            "                                                                 \n",
            " block2_conv2 (Conv2D)       (None, 112, 112, 128)     147584    \n",
            "                                                                 \n",
            " block2_pool (MaxPooling2D)  (None, 56, 56, 128)       0         \n",
            "                                                                 \n",
            " block3_conv1 (Conv2D)       (None, 56, 56, 256)       295168    \n",
            "                                                                 \n",
            " block3_conv2 (Conv2D)       (None, 56, 56, 256)       590080    \n",
            "                                                                 \n",
            " block3_conv3 (Conv2D)       (None, 56, 56, 256)       590080    \n",
            "                                                                 \n",
            " block3_conv4 (Conv2D)       (None, 56, 56, 256)       590080    \n",
            "                                                                 \n",
            " block3_pool (MaxPooling2D)  (None, 28, 28, 256)       0         \n",
            "                                                                 \n",
            " block4_conv1 (Conv2D)       (None, 28, 28, 512)       1180160   \n",
            "                                                                 \n",
            " block4_conv2 (Conv2D)       (None, 28, 28, 512)       2359808   \n",
            "                                                                 \n",
            " block4_conv3 (Conv2D)       (None, 28, 28, 512)       2359808   \n",
            "                                                                 \n",
            " block4_conv4 (Conv2D)       (None, 28, 28, 512)       2359808   \n",
            "                                                                 \n",
            " block4_pool (MaxPooling2D)  (None, 14, 14, 512)       0         \n",
            "                                                                 \n",
            " block5_conv1 (Conv2D)       (None, 14, 14, 512)       2359808   \n",
            "                                                                 \n",
            " block5_conv2 (Conv2D)       (None, 14, 14, 512)       2359808   \n",
            "                                                                 \n",
            " block5_conv3 (Conv2D)       (None, 14, 14, 512)       2359808   \n",
            "                                                                 \n",
            " block5_conv4 (Conv2D)       (None, 14, 14, 512)       2359808   \n",
            "                                                                 \n",
            " block5_pool (MaxPooling2D)  (None, 7, 7, 512)         0         \n",
            "                                                                 \n",
            " average_pooling2d (AverageP  (None, 1, 1, 512)        0         \n",
            " ooling2D)                                                       \n",
            "                                                                 \n",
            " dense_4 (Dense)             (None, 1, 1, 1024)        525312    \n",
            "                                                                 \n",
            " dense_5 (Dense)             (None, 1, 1, 512)         524800    \n",
            "                                                                 \n",
            " dense_6 (Dense)             (None, 1, 1, 64)          32832     \n",
            "                                                                 \n",
            " dropout (Dropout)           (None, 1, 1, 64)          0         \n",
            "                                                                 \n",
            " global_average_pooling2d (G  (None, 64)               0         \n",
            " lobalAveragePooling2D)                                          \n",
            "                                                                 \n",
            " dense_7 (Dense)             (None, 4)                 260       \n",
            "                                                                 \n",
            "=================================================================\n",
            "Total params: 21,107,588\n",
            "Trainable params: 1,083,204\n",
            "Non-trainable params: 20,024,384\n",
            "_________________________________________________________________\n"
          ]
        }
      ]
    },
    {
      "cell_type": "code",
      "source": [
        "vgg_model.compile(optimizer = 'adam', loss = 'SparseCategoricalCrossentropy', metrics= ['accuracy'])\n",
        "\n",
        "earlystopping = EarlyStopping(monitor='val_loss', mode='min', verbose=1, patience=5)\n",
        "checkpointer = ModelCheckpoint(filepath=\"VGG_weights.hdf5\", verbose=1, save_best_only=True)"
      ],
      "metadata": {
        "id": "VfpMJuaI6bhc"
      },
      "execution_count": null,
      "outputs": []
    },
    {
      "cell_type": "code",
      "source": [
        "print(\"[INFO] training head...\")\n",
        "vgg_history = vgg_model.fit(x=x_train,\n",
        "                            y=y_train,\n",
        "                            batch_size=50,\n",
        "                            epochs=5,\n",
        "                            validation_data=(x_validate, y_validate),\n",
        "                            callbacks=[checkpointer, earlystopping],)"
      ],
      "metadata": {
        "colab": {
          "base_uri": "https://localhost:8080/"
        },
        "id": "KoxbycAR6d-A",
        "outputId": "80836744-81a7-4dcf-8762-47633effd54b"
      },
      "execution_count": null,
      "outputs": [
        {
          "output_type": "stream",
          "name": "stdout",
          "text": [
            "[INFO] training head...\n",
            "Epoch 1/5\n",
            "13/13 [==============================] - ETA: 0s - loss: 1.6543 - accuracy: 0.3906 \n",
            "Epoch 1: val_loss improved from inf to 0.94047, saving model to VGG_weights.hdf5\n",
            "13/13 [==============================] - 651s 51s/step - loss: 1.6543 - accuracy: 0.3906 - val_loss: 0.9405 - val_accuracy: 0.5500\n",
            "Epoch 2/5\n",
            "13/13 [==============================] - ETA: 0s - loss: 1.0267 - accuracy: 0.5094 \n",
            "Epoch 2: val_loss improved from 0.94047 to 0.86000, saving model to VGG_weights.hdf5\n",
            "13/13 [==============================] - 616s 48s/step - loss: 1.0267 - accuracy: 0.5094 - val_loss: 0.8600 - val_accuracy: 0.5500\n",
            "Epoch 3/5\n",
            "13/13 [==============================] - ETA: 0s - loss: 0.9167 - accuracy: 0.5391 \n",
            "Epoch 3: val_loss improved from 0.86000 to 0.75668, saving model to VGG_weights.hdf5\n",
            "13/13 [==============================] - 594s 46s/step - loss: 0.9167 - accuracy: 0.5391 - val_loss: 0.7567 - val_accuracy: 0.6000\n",
            "Epoch 4/5\n",
            "13/13 [==============================] - ETA: 0s - loss: 0.8553 - accuracy: 0.5531 \n",
            "Epoch 4: val_loss did not improve from 0.75668\n",
            "13/13 [==============================] - 610s 48s/step - loss: 0.8553 - accuracy: 0.5531 - val_loss: 0.7633 - val_accuracy: 0.5875\n",
            "Epoch 5/5\n",
            "13/13 [==============================] - ETA: 0s - loss: 0.7257 - accuracy: 0.6594 \n",
            "Epoch 5: val_loss improved from 0.75668 to 0.65878, saving model to VGG_weights.hdf5\n",
            "13/13 [==============================] - 596s 47s/step - loss: 0.7257 - accuracy: 0.6594 - val_loss: 0.6588 - val_accuracy: 0.6438\n"
          ]
        }
      ]
    },
    {
      "cell_type": "markdown",
      "source": [
        "##DENSENET MODEL"
      ],
      "metadata": {
        "id": "RdrXuw2YFBsA"
      }
    },
    {
      "cell_type": "code",
      "source": [
        "trainAug = ImageDataGenerator(rotation_range=15, fill_mode=\"nearest\")\n",
        "baseModel = DenseNet121(weights=\"imagenet\", include_top=False, input_tensor=Input(shape=(224, 224, 3)))\n",
        "\n",
        "baseModel.summary()"
      ],
      "metadata": {
        "id": "mNVL_Fv0FAJH"
      },
      "execution_count": null,
      "outputs": []
    },
    {
      "cell_type": "code",
      "source": [
        "headModel = baseModel.output\n",
        "headModel = AveragePooling2D(pool_size=(4, 4))(headModel)\n",
        "#headModel = Flatten(name=\"flatten\")(headModel)\n",
        "headModel = Dense(1024, activation=\"relu\")(headModel)\n",
        "headModel = Dense(512, activation=\"relu\")(headModel)\n",
        "headModel = Dense(64, activation=\"relu\")(headModel)\n",
        "headModel = Dropout(0.5)(headModel)\n",
        "headModel = GlobalAveragePooling2D()(headModel)\n",
        "headModel = Dense(4, activation=\"softmax\")(headModel)\n",
        "\n",
        "densenet_model = Model(inputs=baseModel.input, outputs=headModel)\n",
        "\n",
        "for layer in baseModel.layers:\n",
        "    layer.trainable = False"
      ],
      "metadata": {
        "id": "s1c98e12FIhC"
      },
      "execution_count": null,
      "outputs": []
    },
    {
      "cell_type": "code",
      "source": [
        "densenet_model.compile(optimizer = 'adam', loss = 'SparseCategoricalCrossentropy', metrics= ['accuracy'])\n",
        "\n",
        "earlystopping = EarlyStopping(monitor='val_loss', mode='min', verbose=1, patience=5)\n",
        "checkpointer = ModelCheckpoint(filepath=\"DENSENET_weights.hdf5\", verbose=1, save_best_only=True)"
      ],
      "metadata": {
        "id": "YmtzsiIdFM4w"
      },
      "execution_count": null,
      "outputs": []
    },
    {
      "cell_type": "code",
      "source": [
        "print(\"[INFO] training head...\")\n",
        "densenet_history = densenet_model.fit(x=x_train,\n",
        "                                      y=y_train,\n",
        "                                      batch_size=50,\n",
        "                                      epochs=5,\n",
        "                                      validation_data=(x_validate, y_validate),\n",
        "                                      callbacks=[checkpointer, earlystopping],)"
      ],
      "metadata": {
        "colab": {
          "base_uri": "https://localhost:8080/"
        },
        "id": "XYiZPmbbFPI0",
        "outputId": "43b212a8-e3c9-450c-8ccb-59cf6b50d77e"
      },
      "execution_count": null,
      "outputs": [
        {
          "output_type": "stream",
          "name": "stdout",
          "text": [
            "[INFO] training head...\n",
            "Epoch 1/5\n",
            "13/13 [==============================] - ETA: 0s - loss: 1.2148 - accuracy: 0.4328 \n",
            "Epoch 1: val_loss improved from 1.03966 to 1.02675, saving model to DENSENET_weights.hdf5\n",
            "13/13 [==============================] - 184s 13s/step - loss: 1.2148 - accuracy: 0.4328 - val_loss: 1.0268 - val_accuracy: 0.5500\n",
            "Epoch 2/5\n",
            "13/13 [==============================] - ETA: 0s - loss: 1.0643 - accuracy: 0.4984\n",
            "Epoch 2: val_loss improved from 1.02675 to 0.98953, saving model to DENSENET_weights.hdf5\n",
            "13/13 [==============================] - 147s 11s/step - loss: 1.0643 - accuracy: 0.4984 - val_loss: 0.9895 - val_accuracy: 0.5437\n",
            "Epoch 3/5\n",
            "13/13 [==============================] - ETA: 0s - loss: 1.0368 - accuracy: 0.5078\n",
            "Epoch 3: val_loss improved from 0.98953 to 0.93153, saving model to DENSENET_weights.hdf5\n",
            "13/13 [==============================] - 162s 13s/step - loss: 1.0368 - accuracy: 0.5078 - val_loss: 0.9315 - val_accuracy: 0.5437\n",
            "Epoch 4/5\n",
            "13/13 [==============================] - ETA: 0s - loss: 1.0617 - accuracy: 0.5109\n",
            "Epoch 4: val_loss improved from 0.93153 to 0.89103, saving model to DENSENET_weights.hdf5\n",
            "13/13 [==============================] - 162s 13s/step - loss: 1.0617 - accuracy: 0.5109 - val_loss: 0.8910 - val_accuracy: 0.5500\n",
            "Epoch 5/5\n",
            "13/13 [==============================] - ETA: 0s - loss: 1.0086 - accuracy: 0.5109\n",
            "Epoch 5: val_loss did not improve from 0.89103\n",
            "13/13 [==============================] - 163s 13s/step - loss: 1.0086 - accuracy: 0.5109 - val_loss: 0.9082 - val_accuracy: 0.5562\n"
          ]
        }
      ]
    },
    {
      "cell_type": "markdown",
      "source": [
        "##CNN"
      ],
      "metadata": {
        "id": "idxizvP-U90R"
      }
    },
    {
      "cell_type": "code",
      "source": [
        "classifier = Sequential()\n",
        "classifier.add(Conv2D(32, (3, 3), input_shape = (224, 224, 3), activation = 'relu'))\n",
        "classifier.add(MaxPooling2D(pool_size = (2, 2)))\n",
        "classifier.add(Conv2D(32, (3, 3), activation = 'relu'))\n",
        "classifier.add(MaxPooling2D(pool_size = (2, 2)))\n",
        "classifier.add(Flatten())\n",
        "classifier.add(Dense(units = 128, activation = 'relu'))\n",
        "classifier.add(Dense(units = 4, activation = 'sigmoid'))\n",
        "classifier.summary()"
      ],
      "metadata": {
        "id": "d1k1KuL0FSva",
        "colab": {
          "base_uri": "https://localhost:8080/"
        },
        "outputId": "986a4273-24b5-471b-d713-1c8d7275bc71"
      },
      "execution_count": null,
      "outputs": [
        {
          "output_type": "stream",
          "name": "stdout",
          "text": [
            "Model: \"sequential_1\"\n",
            "_________________________________________________________________\n",
            " Layer (type)                Output Shape              Param #   \n",
            "=================================================================\n",
            " conv2d_2 (Conv2D)           (None, 222, 222, 32)      896       \n",
            "                                                                 \n",
            " max_pooling2d_2 (MaxPooling  (None, 111, 111, 32)     0         \n",
            " 2D)                                                             \n",
            "                                                                 \n",
            " conv2d_3 (Conv2D)           (None, 109, 109, 32)      9248      \n",
            "                                                                 \n",
            " max_pooling2d_3 (MaxPooling  (None, 54, 54, 32)       0         \n",
            " 2D)                                                             \n",
            "                                                                 \n",
            " flatten_1 (Flatten)         (None, 93312)             0         \n",
            "                                                                 \n",
            " dense_2 (Dense)             (None, 128)               11944064  \n",
            "                                                                 \n",
            " dense_3 (Dense)             (None, 4)                 516       \n",
            "                                                                 \n",
            "=================================================================\n",
            "Total params: 11,954,724\n",
            "Trainable params: 11,954,724\n",
            "Non-trainable params: 0\n",
            "_________________________________________________________________\n"
          ]
        }
      ]
    },
    {
      "cell_type": "code",
      "source": [
        "classifier.compile(optimizer = 'adam', loss = 'SparseCategoricalCrossentropy', metrics= ['accuracy'])\n",
        "\n",
        "earlystopping = EarlyStopping(monitor='val_loss', mode='min', verbose=1, patience=5)\n",
        "checkpointer = ModelCheckpoint(filepath=\"classifier_weights.hdf5\", verbose=1, save_best_only=True)"
      ],
      "metadata": {
        "id": "NtVTGtQHVVaD"
      },
      "execution_count": null,
      "outputs": []
    },
    {
      "cell_type": "code",
      "source": [
        "print(\"[INFO] training head...\")\n",
        "classifier_history = classifier.fit(x=x_train,\n",
        "                                        y=y_train,\n",
        "                                        batch_size=50,\n",
        "                                        epochs=5,\n",
        "                                        validation_data=(x_validate, y_validate),\n",
        "                                        callbacks=[checkpointer, earlystopping],)"
      ],
      "metadata": {
        "colab": {
          "base_uri": "https://localhost:8080/"
        },
        "id": "nDgbeNg9VYKe",
        "outputId": "2ae546ad-9529-4f82-919b-558402a5e54b"
      },
      "execution_count": null,
      "outputs": [
        {
          "output_type": "stream",
          "name": "stdout",
          "text": [
            "[INFO] training head...\n",
            "Epoch 1/5\n",
            "13/13 [==============================] - ETA: 0s - loss: 395.3375 - accuracy: 0.3234\n",
            "Epoch 1: val_loss improved from inf to 4.46471, saving model to classifier_weights.hdf5\n",
            "13/13 [==============================] - 61s 5s/step - loss: 395.3375 - accuracy: 0.3234 - val_loss: 4.4647 - val_accuracy: 0.5063\n",
            "Epoch 2/5\n",
            "13/13 [==============================] - ETA: 0s - loss: 1.6193 - accuracy: 0.6531\n",
            "Epoch 2: val_loss improved from 4.46471 to 1.09688, saving model to classifier_weights.hdf5\n",
            "13/13 [==============================] - 62s 5s/step - loss: 1.6193 - accuracy: 0.6531 - val_loss: 1.0969 - val_accuracy: 0.5125\n",
            "Epoch 3/5\n",
            "13/13 [==============================] - ETA: 0s - loss: 0.6492 - accuracy: 0.7578\n",
            "Epoch 3: val_loss improved from 1.09688 to 0.79923, saving model to classifier_weights.hdf5\n",
            "13/13 [==============================] - 48s 4s/step - loss: 0.6492 - accuracy: 0.7578 - val_loss: 0.7992 - val_accuracy: 0.6625\n",
            "Epoch 4/5\n",
            "13/13 [==============================] - ETA: 0s - loss: 0.3111 - accuracy: 0.9109\n",
            "Epoch 4: val_loss improved from 0.79923 to 0.69230, saving model to classifier_weights.hdf5\n",
            "13/13 [==============================] - 53s 4s/step - loss: 0.3111 - accuracy: 0.9109 - val_loss: 0.6923 - val_accuracy: 0.7750\n",
            "Epoch 5/5\n",
            "13/13 [==============================] - ETA: 0s - loss: 0.1075 - accuracy: 0.9750\n",
            "Epoch 5: val_loss did not improve from 0.69230\n",
            "13/13 [==============================] - 52s 4s/step - loss: 0.1075 - accuracy: 0.9750 - val_loss: 0.7058 - val_accuracy: 0.8250\n"
          ]
        }
      ]
    },
    {
      "cell_type": "markdown",
      "source": [
        "##MOBILENET"
      ],
      "metadata": {
        "id": "RC6JFmb7YkhW"
      }
    },
    {
      "cell_type": "code",
      "source": [
        "trainAug = ImageDataGenerator(rotation_range=15, fill_mode=\"nearest\")\n",
        "baseModel = MobileNet(weights=\"imagenet\", include_top=False, input_tensor=Input(shape=(224, 224, 3)))\n",
        "\n",
        "baseModel.summary()"
      ],
      "metadata": {
        "id": "DH4vrbHyYje7"
      },
      "execution_count": null,
      "outputs": []
    },
    {
      "cell_type": "code",
      "source": [
        "headModel = baseModel.output\n",
        "headModel = AveragePooling2D(pool_size=(4, 4))(headModel)\n",
        "#headModel = Flatten(name=\"flatten\")(headModel)\n",
        "headModel = Dense(1024, activation=\"relu\")(headModel)\n",
        "headModel = Dense(512, activation=\"relu\")(headModel)\n",
        "headModel = Dense(64, activation=\"relu\")(headModel)\n",
        "headModel = Dropout(0.5)(headModel)\n",
        "headModel = GlobalAveragePooling2D()(headModel)\n",
        "headModel = Dense(4, activation=\"softmax\")(headModel)\n",
        "\n",
        "mobilenet_model = Model(inputs=baseModel.input, outputs=headModel)\n",
        "\n",
        "for layer in baseModel.layers:\n",
        "    layer.trainable = False"
      ],
      "metadata": {
        "id": "CIxhTrLcYuqJ"
      },
      "execution_count": null,
      "outputs": []
    },
    {
      "cell_type": "code",
      "source": [
        "mobilenet_model.compile(optimizer = 'adam', loss = 'SparseCategoricalCrossentropy', metrics= ['accuracy'])\n",
        "\n",
        "earlystopping = EarlyStopping(monitor='val_loss', mode='min', verbose=1, patience=5)\n",
        "checkpointer = ModelCheckpoint(filepath=\"MOBILENET_weights.hdf5\", verbose=1, save_best_only=True)"
      ],
      "metadata": {
        "id": "_tYTZBoMYvwN"
      },
      "execution_count": null,
      "outputs": []
    },
    {
      "cell_type": "code",
      "source": [
        "mobilenet_history = mobilenet_model.fit(x=x_train,\n",
        "                                        y=y_train,\n",
        "                                        batch_size=50,\n",
        "                                        epochs=5,\n",
        "                                        validation_data=(x_validate, y_validate),\n",
        "                                        callbacks=[checkpointer, earlystopping],)"
      ],
      "metadata": {
        "colab": {
          "base_uri": "https://localhost:8080/"
        },
        "id": "s3CoPWN6Yymn",
        "outputId": "a99dabbe-f71b-4186-b676-194b942d3fde"
      },
      "execution_count": null,
      "outputs": [
        {
          "output_type": "stream",
          "name": "stdout",
          "text": [
            "Epoch 1/5\n",
            "13/13 [==============================] - ETA: 0s - loss: 1.2788 - accuracy: 0.4203\n",
            "Epoch 1: val_loss improved from inf to 0.80798, saving model to MOBILENET_weights.hdf5\n",
            "13/13 [==============================] - 47s 3s/step - loss: 1.2788 - accuracy: 0.4203 - val_loss: 0.8080 - val_accuracy: 0.6062\n",
            "Epoch 2/5\n",
            "13/13 [==============================] - ETA: 0s - loss: 0.9288 - accuracy: 0.5844\n",
            "Epoch 2: val_loss improved from 0.80798 to 0.75938, saving model to MOBILENET_weights.hdf5\n",
            "13/13 [==============================] - 41s 3s/step - loss: 0.9288 - accuracy: 0.5844 - val_loss: 0.7594 - val_accuracy: 0.6438\n",
            "Epoch 3/5\n",
            "13/13 [==============================] - ETA: 0s - loss: 0.8217 - accuracy: 0.6016\n",
            "Epoch 3: val_loss improved from 0.75938 to 0.61913, saving model to MOBILENET_weights.hdf5\n",
            "13/13 [==============================] - 42s 3s/step - loss: 0.8217 - accuracy: 0.6016 - val_loss: 0.6191 - val_accuracy: 0.7125\n",
            "Epoch 4/5\n",
            "13/13 [==============================] - ETA: 0s - loss: 0.7582 - accuracy: 0.6422\n",
            "Epoch 4: val_loss improved from 0.61913 to 0.61254, saving model to MOBILENET_weights.hdf5\n",
            "13/13 [==============================] - 42s 3s/step - loss: 0.7582 - accuracy: 0.6422 - val_loss: 0.6125 - val_accuracy: 0.7812\n",
            "Epoch 5/5\n",
            "13/13 [==============================] - ETA: 0s - loss: 0.6463 - accuracy: 0.7094\n",
            "Epoch 5: val_loss improved from 0.61254 to 0.56832, saving model to MOBILENET_weights.hdf5\n",
            "13/13 [==============================] - 39s 3s/step - loss: 0.6463 - accuracy: 0.7094 - val_loss: 0.5683 - val_accuracy: 0.7875\n"
          ]
        }
      ]
    },
    {
      "cell_type": "code",
      "source": [],
      "metadata": {
        "id": "KX33UJ84aOnp"
      },
      "execution_count": null,
      "outputs": []
    }
  ]
}